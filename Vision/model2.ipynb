{
 "cells": [
  {
   "cell_type": "code",
   "execution_count": 2,
   "metadata": {},
   "outputs": [
    {
     "name": "stdout",
     "output_type": "stream",
     "text": [
      "Collecting tflite-model-maker\n",
      "  Using cached tflite_model_maker-0.4.2-py3-none-any.whl (577 kB)\n",
      "Requirement already satisfied: pillow>=7.0.0 in /home/nvidia/.local/lib/python3.8/site-packages (from tflite-model-maker) (9.4.0)\n",
      "Requirement already satisfied: flatbuffers>=2.0 in /home/nvidia/.local/lib/python3.8/site-packages (from tflite-model-maker) (23.3.3)\n",
      "Requirement already satisfied: numpy>=1.17.3 in /home/nvidia/.local/lib/python3.8/site-packages (from tflite-model-maker) (1.23.5)\n",
      "Collecting librosa==0.8.1\n",
      "  Downloading librosa-0.8.1-py3-none-any.whl (203 kB)\n",
      "\u001b[K     |████████████████████████████████| 203 kB 1.9 MB/s eta 0:00:01\n",
      "\u001b[?25hCollecting neural-structured-learning>=1.3.1\n",
      "  Downloading neural_structured_learning-1.4.0-py2.py3-none-any.whl (128 kB)\n",
      "\u001b[K     |████████████████████████████████| 128 kB 22.6 MB/s eta 0:00:01\n",
      "\u001b[?25hRequirement already satisfied: matplotlib<3.5.0,>=3.0.3 in /usr/lib/python3/dist-packages (from tflite-model-maker) (3.1.2)\n",
      "Requirement already satisfied: tensorflow>=2.6.0 in /usr/local/lib/python3.8/dist-packages (from tflite-model-maker) (2.11.0+nv23.1)\n",
      "Collecting sentencepiece>=0.1.91\n",
      "  Downloading sentencepiece-0.1.98-cp38-cp38-manylinux_2_17_aarch64.manylinux2014_aarch64.whl (1.3 MB)\n",
      "\u001b[K     |████████████████████████████████| 1.3 MB 27.4 MB/s eta 0:00:01\n",
      "\u001b[?25hCollecting tflite-support>=0.4.2\n",
      "  Downloading tflite_support-0.4.3-cp38-cp38-manylinux2014_aarch64.whl (43.8 MB)\n",
      "\u001b[K     |████████████████████████████████| 43.8 MB 244 kB/s eta 0:00:011   |█                               | 1.4 MB 3.7 MB/s eta 0:00:12     |████████████████████▉           | 28.5 MB 684 kB/s eta 0:00:23\n",
      "\u001b[?25hRequirement already satisfied: absl-py>=0.10.0 in /home/nvidia/.local/lib/python3.8/site-packages (from tflite-model-maker) (1.4.0)\n",
      "Collecting numba==0.53\n",
      "  Downloading numba-0.53.0.tar.gz (2.2 MB)\n",
      "\u001b[K     |████████████████████████████████| 2.2 MB 11.1 MB/s eta 0:00:01\n",
      "\u001b[?25hRequirement already satisfied: urllib3!=1.25.0,!=1.25.1,<1.26,>=1.21.1 in /usr/lib/python3/dist-packages (from tflite-model-maker) (1.25.8)\n",
      "\u001b[31mERROR: Could not find a version that satisfies the requirement tensorflow-addons>=0.11.2 (from tflite-model-maker) (from versions: none)\u001b[0m\n",
      "\u001b[31mERROR: No matching distribution found for tensorflow-addons>=0.11.2 (from tflite-model-maker)\u001b[0m\n"
     ]
    }
   ],
   "source": [
    "!pip install tflite-model-maker\n"
   ]
  },
  {
   "cell_type": "code",
   "execution_count": 7,
   "metadata": {},
   "outputs": [
    {
     "ename": "ModuleNotFoundError",
     "evalue": "No module named 'tflite_model_maker'",
     "output_type": "error",
     "traceback": [
      "\u001b[0;31m---------------------------------------------------------------------------\u001b[0m",
      "\u001b[0;31mModuleNotFoundError\u001b[0m                       Traceback (most recent call last)",
      "Cell \u001b[0;32mIn[7], line 6\u001b[0m\n\u001b[1;32m      3\u001b[0m \u001b[39mimport\u001b[39;00m \u001b[39mnumpy\u001b[39;00m \u001b[39mas\u001b[39;00m \u001b[39mnp\u001b[39;00m\n\u001b[1;32m      5\u001b[0m \u001b[39mimport\u001b[39;00m \u001b[39mtensorflow\u001b[39;00m \u001b[39mas\u001b[39;00m \u001b[39mtf\u001b[39;00m\n\u001b[0;32m----> 6\u001b[0m \u001b[39mfrom\u001b[39;00m \u001b[39mtflite_model_maker\u001b[39;00m \u001b[39mimport\u001b[39;00m image_classifier\n\u001b[1;32m      7\u001b[0m \u001b[39mfrom\u001b[39;00m \u001b[39mtflite_model_maker\u001b[39;00m\u001b[39m.\u001b[39;00m\u001b[39mimage_classifier\u001b[39;00m \u001b[39mimport\u001b[39;00m DataLoader\n\u001b[1;32m      9\u001b[0m \u001b[39mimport\u001b[39;00m \u001b[39mmatplotlib\u001b[39;00m\u001b[39m.\u001b[39;00m\u001b[39mpyplot\u001b[39;00m \u001b[39mas\u001b[39;00m \u001b[39mplt\u001b[39;00m\n",
      "\u001b[0;31mModuleNotFoundError\u001b[0m: No module named 'tflite_model_maker'"
     ]
    }
   ],
   "source": [
    "import os\n",
    "\n",
    "import numpy as np\n",
    "\n",
    "import tensorflow as tf\n",
    "from tflite_model_maker import image_classifier\n",
    "from tflite_model_maker.image_classifier import DataLoader\n",
    "\n",
    "import matplotlib.pyplot as plt"
   ]
  },
  {
   "cell_type": "code",
   "execution_count": null,
   "metadata": {},
   "outputs": [],
   "source": [
    "ds_path = \"/home/nvidia/Desktop/letras_dataset/\""
   ]
  },
  {
   "cell_type": "code",
   "execution_count": null,
   "metadata": {},
   "outputs": [],
   "source": [
    "data_set = DataLoader.from_folder(ds_path)"
   ]
  },
  {
   "cell_type": "code",
   "execution_count": null,
   "metadata": {},
   "outputs": [],
   "source": [
    "train_data, test_data = data_set.split(0.9)\n",
    "test_data, val_data = test_data.split(0.5)"
   ]
  },
  {
   "cell_type": "code",
   "execution_count": null,
   "metadata": {},
   "outputs": [],
   "source": [
    "model = image_classifier.create(train_data)"
   ]
  },
  {
   "cell_type": "code",
   "execution_count": null,
   "metadata": {},
   "outputs": [],
   "source": [
    "loss, accuracy = model.evaluate(test_data)"
   ]
  },
  {
   "cell_type": "code",
   "execution_count": null,
   "metadata": {},
   "outputs": [],
   "source": [
    "model.export(export_dir='.')"
   ]
  }
 ],
 "metadata": {
  "kernelspec": {
   "display_name": "Python 3",
   "language": "python",
   "name": "python3"
  },
  "language_info": {
   "codemirror_mode": {
    "name": "ipython",
    "version": 3
   },
   "file_extension": ".py",
   "mimetype": "text/x-python",
   "name": "python",
   "nbconvert_exporter": "python",
   "pygments_lexer": "ipython3",
   "version": "3.8.10"
  },
  "orig_nbformat": 4
 },
 "nbformat": 4,
 "nbformat_minor": 2
}
