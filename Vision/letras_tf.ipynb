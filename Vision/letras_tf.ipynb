{
 "cells": [
  {
   "cell_type": "code",
   "execution_count": 45,
   "metadata": {},
   "outputs": [],
   "source": [
    "import tensorflow as tf\n",
    "import numpy as np\n",
    "import matplotlib.pyplot as plt\n",
    "from PIL import Image\n",
    "import cv2\n",
    " "
   ]
  },
  {
   "cell_type": "code",
   "execution_count": 46,
   "metadata": {},
   "outputs": [],
   "source": [
    "interpreter = tf.lite.Interpreter(model_path=\"primero.tflite\")\n",
    "interpreter.allocate_tensors()\n",
    "\n",
    "output = interpreter.get_output_details()[0]  "
   ]
  },
  {
   "cell_type": "code",
   "execution_count": 47,
   "metadata": {},
   "outputs": [],
   "source": [
    "# Set input tensor data30\n",
    "tf.lite.Interpreter(\n",
    "    model_path=\"D:\\\\UsX\\\\Escritorio\\\\LARC-2023\\\\Vision\\\\primero.tflite\",\n",
    "    model_content=None,\n",
    "    experimental_delegates=None,\n",
    "    num_threads=None,\n",
    "    experimental_op_resolver_type=tf.lite.experimental.OpResolverType.AUTO,\n",
    "    experimental_preserve_all_tensors=False\n",
    ")\n",
    "input = interpreter.get_input_details()[0]\n",
    "input_data = tf.constant(1., shape=[1, 1])\n",
    "\n"
   ]
  },
  {
   "cell_type": "code",
   "execution_count": 48,
   "metadata": {},
   "outputs": [
    {
     "data": {
      "image/png": "[encoded data removed]",
      "text/plain": [
       "<Figure size 640x480 with 1 Axes>"
      ]
     },
     "metadata": {},
     "output_type": "display_data"
    }
   ],
   "source": [
    "image = \"F.png\"\n",
    "image = cv2.imread(image, cv2.IMREAD_UNCHANGED)\n",
    "shape = interpreter.get_input_details()[0]['shape']\n",
    "image = cv2.cvtColor(image, cv2.COLOR_BGR2GRAY)\n",
    "image = np.asanyarray(image, dtype=\"uint8\")\n",
    "image = cv2.cvtColor(image, cv2.COLOR_GRAY2RGB) \n",
    "image = cv2.resize(image, (shape[1], shape[2])) \n",
    "plt.imshow(image)\n",
    "image = image.reshape(shape)\n",
    "interpreter.set_tensor(input['index'], image)\n",
    "interpreter.invoke()\n"
   ]
  },
  {
   "cell_type": "code",
   "execution_count": 50,
   "metadata": {},
   "outputs": [
    {
     "name": "stdout",
     "output_type": "stream",
     "text": [
      "[  2   2   6   3   8 110   1  11 114]\n",
      "I\n"
     ]
    }
   ],
   "source": [
    "# output_details = interpreter.get_output_details()\n",
    "\n",
    "# output_index = None\n",
    "# for i, detail in enumerate(output_details):\n",
    "#     if detail['name'] == 'output_tensor_name':\n",
    "#         output_index = i\n",
    "#         break\n",
    "\n",
    "# if output_index is None:\n",
    "#     print('Output tensor not found')\n",
    "#print(interpreter.get_tensor(output['index'])[0])\n",
    "val = (interpreter.get_tensor(output['index'])[0])\n",
    "acum = 0\n",
    "max = 0\n",
    "for i in range(len(val)):\n",
    "    acum += val[i]\n",
    "    if val[max] < val[i]:\n",
    "        max = i\n",
    "\n",
    "data = ['A', 'B', 'C', 'D','E', 'F', ' G', 'H','I']\n",
    "\n",
    "print(val)\n",
    "print(data[max])"
   ]
  }
 ],
 "metadata": {
  "kernelspec": {
   "display_name": "base",
   "language": "python",
   "name": "python3"
  },
  "language_info": {
   "codemirror_mode": {
    "name": "ipython",
    "version": 3
   },
   "file_extension": ".py",
   "mimetype": "text/x-python",
   "name": "python",
   "nbconvert_exporter": "python",
   "pygments_lexer": "ipython3",
   "version": "3.9.13"
  },
  "orig_nbformat": 4
 },
 "nbformat": 4,
 "nbformat_minor": 2
}
